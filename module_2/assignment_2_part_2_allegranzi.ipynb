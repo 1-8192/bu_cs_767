{
  "nbformat": 4,
  "nbformat_minor": 0,
  "metadata": {
    "colab": {
      "provenance": []
    },
    "kernelspec": {
      "name": "python3",
      "display_name": "Python 3"
    },
    "language_info": {
      "name": "python"
    }
  },
  "cells": [
    {
      "cell_type": "markdown",
      "source": [
        "# Assignment 2 Part 2: Moview Review Intent Application\n",
        "## Alessandro Allegranzi"
      ],
      "metadata": {
        "id": "NLen2EPYEZc8"
      }
    },
    {
      "cell_type": "code",
      "execution_count": 50,
      "metadata": {
        "id": "qtFGsahUEUT3"
      },
      "outputs": [],
      "source": [
        "# Imports\n",
        "import tensorflow as tf\n",
        "import numpy as np\n",
        "import matplotlib.pyplot as plt\n",
        "\n",
        "# constants\n",
        "NUM_WORDS = 10000"
      ]
    },
    {
      "cell_type": "code",
      "source": [
        "# Loading IMDB review data set.\n",
        "# Available here: https://keras.io/api/datasets/imdb/\n",
        "\n",
        "imdb_data = tf.keras.datasets.imdb # data set known to Keras/TensorFlow\n",
        "# Setting up tensorts for training and testing.\n",
        "(x_train, y_train), (x_test, y_test) = imdb_data.load_data(num_words = NUM_WORDS)\n",
        "# load_data() takes several arguments, but starting with mostly defaults. The num_words\n",
        "# params limits the size of the word intent dictionary. Lowering it to 10k from the\n",
        "# standard amount to manage size of the dictionary.\n",
        "\n",
        "# converting everything to np arrays.\n",
        "x_train = np.array(x_train)\n",
        "y_train = np.array(y_train)\n",
        "x_test = np.array(x_test)\n",
        "y_train = np.array(y_train)"
      ],
      "metadata": {
        "id": "LGIEV85LUCit"
      },
      "execution_count": 51,
      "outputs": []
    },
    {
      "cell_type": "code",
      "source": [
        "# Taking a look at the data. The load_data() method for the dataset\n",
        "# returns \"lists of sequences, which are lists of indexes (integers)\". Each\n",
        "# integer maps to a word in the review.\n",
        "\n",
        "print(x_train[0])\n",
        "print(y_train[0])\n",
        "print(x_test[0])\n",
        "print(y_test[0])\n",
        "\n",
        "# Keras provides an example of how to decode the word from the integer as below\n",
        "# using the mapping dictionary from the dataset. Doing this to see a sample\n",
        "# review.\n",
        "start_char = 1\n",
        "oov_char = 2\n",
        "index_from = 3\n",
        "word_index = tf.keras.datasets.imdb.get_word_index()\n",
        "# Reverse the word index to obtain a dict mapping indices to words\n",
        "# And add `index_from` to indices to sync with `x_train`\n",
        "inverted_word_index = dict(\n",
        "    (i + index_from, word) for (word, i) in word_index.items()\n",
        ")\n",
        "# Update `inverted_word_index` to include `start_char` and `oov_char`\n",
        "inverted_word_index[start_char] = \"[START]\"\n",
        "inverted_word_index[oov_char] = \"[OOV]\"\n",
        "# Decode the first sequence in the dataset\n",
        "decoded_sequence = \" \".join(inverted_word_index[i] for i in x_train[0])\n",
        "\n",
        "print(decoded_sequence)\n",
        "\n",
        "# Pad the sequences to the same length\n",
        "x_train = tf.keras.preprocessing.sequence.pad_sequences(x_train, maxlen=250)\n",
        "x_test = tf.keras.preprocessing.sequence.pad_sequences(x_test, maxlen=250)"
      ],
      "metadata": {
        "colab": {
          "base_uri": "https://localhost:8080/"
        },
        "id": "q9afkfaYZRdD",
        "outputId": "38534715-09d0-4264-f226-3b838dd46901"
      },
      "execution_count": 52,
      "outputs": [
        {
          "output_type": "stream",
          "name": "stdout",
          "text": [
            "[1, 14, 22, 16, 43, 530, 973, 1622, 1385, 65, 458, 4468, 66, 3941, 4, 173, 36, 256, 5, 25, 100, 43, 838, 112, 50, 670, 2, 9, 35, 480, 284, 5, 150, 4, 172, 112, 167, 2, 336, 385, 39, 4, 172, 4536, 1111, 17, 546, 38, 13, 447, 4, 192, 50, 16, 6, 147, 2025, 19, 14, 22, 4, 1920, 4613, 469, 4, 22, 71, 87, 12, 16, 43, 530, 38, 76, 15, 13, 1247, 4, 22, 17, 515, 17, 12, 16, 626, 18, 2, 5, 62, 386, 12, 8, 316, 8, 106, 5, 4, 2223, 5244, 16, 480, 66, 3785, 33, 4, 130, 12, 16, 38, 619, 5, 25, 124, 51, 36, 135, 48, 25, 1415, 33, 6, 22, 12, 215, 28, 77, 52, 5, 14, 407, 16, 82, 2, 8, 4, 107, 117, 5952, 15, 256, 4, 2, 7, 3766, 5, 723, 36, 71, 43, 530, 476, 26, 400, 317, 46, 7, 4, 2, 1029, 13, 104, 88, 4, 381, 15, 297, 98, 32, 2071, 56, 26, 141, 6, 194, 7486, 18, 4, 226, 22, 21, 134, 476, 26, 480, 5, 144, 30, 5535, 18, 51, 36, 28, 224, 92, 25, 104, 4, 226, 65, 16, 38, 1334, 88, 12, 16, 283, 5, 16, 4472, 113, 103, 32, 15, 16, 5345, 19, 178, 32]\n",
            "1\n",
            "[1, 591, 202, 14, 31, 6, 717, 10, 10, 2, 2, 5, 4, 360, 7, 4, 177, 5760, 394, 354, 4, 123, 9, 1035, 1035, 1035, 10, 10, 13, 92, 124, 89, 488, 7944, 100, 28, 1668, 14, 31, 23, 27, 7479, 29, 220, 468, 8, 124, 14, 286, 170, 8, 157, 46, 5, 27, 239, 16, 179, 2, 38, 32, 25, 7944, 451, 202, 14, 6, 717]\n",
            "0\n",
            "[START] this film was just brilliant casting location scenery story direction everyone's really suited the part they played and you could just imagine being there robert [OOV] is an amazing actor and now the same being director [OOV] father came from the same scottish island as myself so i loved the fact there was a real connection with this film the witty remarks throughout the film were great it was just brilliant so much that i bought the film as soon as it was released for [OOV] and would recommend it to everyone to watch and the fly fishing was amazing really cried at the end it was so sad and you know what they say if you cry at a film it must have been good and this definitely was also [OOV] to the two little boy's that played the [OOV] of norman and paul they were just brilliant children are often left out of the [OOV] list i think because the stars that play them all grown up are such a big profile for the whole film but these children are amazing and should be praised for what they have done don't you think the whole story was so lovely because it was true and was someone's life after all that was shared with us all\n"
          ]
        }
      ]
    },
    {
      "cell_type": "code",
      "source": [
        "# Clearing model.\n",
        "tf.keras.backend.clear_session()\n",
        "# Define the neural net model\n",
        "model = tf.keras.models.Sequential([\n",
        "  tf.keras.layers.Embedding(NUM_WORDS, 2, input_length=250),\n",
        "  tf.keras.layers.Flatten(),\n",
        "  tf.keras.layers.Dense(250, activation='relu'),\n",
        "  tf.keras.layers.Dense(1, activation='sigmoid')\n",
        "])\n",
        "\n",
        "# Print summary of the model.\n",
        "model.summary()"
      ],
      "metadata": {
        "colab": {
          "base_uri": "https://localhost:8080/"
        },
        "id": "3o_0eoqjcOBo",
        "outputId": "dd087a99-b519-4f4d-816f-e6451565f8d5"
      },
      "execution_count": 54,
      "outputs": [
        {
          "output_type": "stream",
          "name": "stdout",
          "text": [
            "Model: \"sequential\"\n",
            "_________________________________________________________________\n",
            " Layer (type)                Output Shape              Param #   \n",
            "=================================================================\n",
            " embedding (Embedding)       (None, 250, 2)            20000     \n",
            "                                                                 \n",
            " flatten (Flatten)           (None, 500)               0         \n",
            "                                                                 \n",
            " dense (Dense)               (None, 250)               125250    \n",
            "                                                                 \n",
            " dense_1 (Dense)             (None, 1)                 251       \n",
            "                                                                 \n",
            "=================================================================\n",
            "Total params: 145501 (568.36 KB)\n",
            "Trainable params: 145501 (568.36 KB)\n",
            "Non-trainable params: 0 (0.00 Byte)\n",
            "_________________________________________________________________\n"
          ]
        }
      ]
    },
    {
      "cell_type": "code",
      "source": [
        "# Compile the model\n",
        "model.compile(loss='binary_crossentropy', optimizer='adam', metrics=['accuracy'])\n",
        "\n",
        "# Train the model\n",
        "fit = model.fit(x_train, y_train, validation_data=(x_test, y_test), epochs=3, batch_size=120, verbose=2)"
      ],
      "metadata": {
        "colab": {
          "base_uri": "https://localhost:8080/"
        },
        "id": "pUxTjAXBed9O",
        "outputId": "85e48a8e-b42c-4b41-88e9-304dff488ce3"
      },
      "execution_count": 55,
      "outputs": [
        {
          "output_type": "stream",
          "name": "stdout",
          "text": [
            "Epoch 1/3\n",
            "209/209 - 5s - loss: 0.5303 - accuracy: 0.7072 - val_loss: 0.3109 - val_accuracy: 0.8672 - 5s/epoch - 22ms/step\n",
            "Epoch 2/3\n",
            "209/209 - 2s - loss: 0.2366 - accuracy: 0.9080 - val_loss: 0.2915 - val_accuracy: 0.8784 - 2s/epoch - 10ms/step\n",
            "Epoch 3/3\n",
            "209/209 - 2s - loss: 0.1665 - accuracy: 0.9389 - val_loss: 0.3154 - val_accuracy: 0.8746 - 2s/epoch - 9ms/step\n"
          ]
        }
      ]
    },
    {
      "cell_type": "code",
      "source": [
        "# Evaluate the model\n",
        "scores = model.evaluate(x_test, y_test, verbose=0)\n",
        "print(\"Accuracy: %.2f%%\" % (scores[1]*100))"
      ],
      "metadata": {
        "colab": {
          "base_uri": "https://localhost:8080/"
        },
        "id": "0isqS0gSCOPv",
        "outputId": "267de728-9dcb-4628-e611-1d7e7638523d"
      },
      "execution_count": 56,
      "outputs": [
        {
          "output_type": "stream",
          "name": "stdout",
          "text": [
            "Accuracy: 87.46%\n"
          ]
        }
      ]
    },
    {
      "cell_type": "code",
      "source": [
        "# Visualize the accuracies over time to see if we have overfit the model.\n",
        "\n",
        "def plot_accuracy(history, miny=None):\n",
        "  acc = history.history['accuracy']\n",
        "  test_acc = history.history['val_accuracy']\n",
        "  epochs = range(len(acc))\n",
        "  plt.plot(epochs, acc)\n",
        "  plt.plot(epochs, test_acc)\n",
        "  if miny:\n",
        "    plt.ylim(miny, 1.0)\n",
        "  plt.title('accuracy')\n",
        "  plt.xlabel('epoch')\n",
        "  plt.figure()"
      ],
      "metadata": {
        "id": "miLk3NSXFNDm"
      },
      "execution_count": 57,
      "outputs": []
    },
    {
      "cell_type": "code",
      "source": [
        "plot_accuracy(fit)"
      ],
      "metadata": {
        "colab": {
          "base_uri": "https://localhost:8080/",
          "height": 489
        },
        "id": "L78Pf2UMFUU_",
        "outputId": "6142ccae-0535-4329-87ff-3d8f3fea5fa0"
      },
      "execution_count": 58,
      "outputs": [
        {
          "output_type": "display_data",
          "data": {
            "text/plain": [
              "<Figure size 640x480 with 1 Axes>"
            ],
            "image/png": "[encoded data removed]"
          },
          "metadata": {}
        },
        {
          "output_type": "display_data",
          "data": {
            "text/plain": [
              "<Figure size 640x480 with 0 Axes>"
            ]
          },
          "metadata": {}
        }
      ]
    },
    {
      "cell_type": "code",
      "source": [
        "# Making some predictions to see sample output.\n",
        "\n",
        "def encode_review(review):\n",
        "  #encodes review based on dataset dictionary.\n",
        "    words = review.split()\n",
        "    encoded = [start_char]\n",
        "\n",
        "    for word in words:\n",
        "        # Check if the word is in the word_index\n",
        "        if word in word_index:\n",
        "            encoded.append(word_index[word] + index_from)\n",
        "        else:\n",
        "            encoded.append(oov_char)\n",
        "\n",
        "    return encoded\n",
        "\n",
        "# Sample reviews. Going for a positive, medium, and negative sentiment review.\n",
        "sample_reviews = [\"This movie was excellent. I've never loved a movie so much\",\n",
        "                  \"The movie was ok. I've seen better, but it was mostly fun.\",\n",
        "                  \"I didn't like this movie at all. Terrible film.\"]\n",
        "\n",
        "# Encode the reviews\n",
        "encoded_reviews = [encode_review(review) for review in sample_reviews]\n",
        "\n",
        "# Pad the sequences and print an exampe to see what an encoded review looks like.\n",
        "encoded_reviews = tf.keras.preprocessing.sequence.pad_sequences(encoded_reviews, maxlen=250)\n",
        "print(encoded_reviews[0], '\\n')\n",
        "\n",
        "# Get predictions\n",
        "predictions = model.predict(encoded_reviews)\n",
        "\n",
        "# Print predictions\n",
        "print(predictions)"
      ],
      "metadata": {
        "colab": {
          "base_uri": "https://localhost:8080/"
        },
        "id": "KFLszC3rC5rx",
        "outputId": "2e0c58b7-5cbb-43fd-8bb1-8f29f60e7615"
      },
      "execution_count": 59,
      "outputs": [
        {
          "output_type": "stream",
          "name": "stderr",
          "text": [
            "WARNING:tensorflow:5 out of the last 9 calls to <function Model.make_predict_function.<locals>.predict_function at 0x7ff51caa2830> triggered tf.function retracing. Tracing is expensive and the excessive number of tracings could be due to (1) creating @tf.function repeatedly in a loop, (2) passing tensors with different shapes, (3) passing Python objects instead of tensors. For (1), please define your @tf.function outside of the loop. For (2), @tf.function has reduce_retracing=True option that can avoid unnecessary retracing. For (3), please refer to https://www.tensorflow.org/guide/function#controlling_retracing and https://www.tensorflow.org/api_docs/python/tf/function for  more details.\n"
          ]
        },
        {
          "output_type": "stream",
          "name": "stdout",
          "text": [
            "[  0   0   0   0   0   0   0   0   0   0   0   0   0   0   0   0   0   0\n",
            "   0   0   0   0   0   0   0   0   0   0   0   0   0   0   0   0   0   0\n",
            "   0   0   0   0   0   0   0   0   0   0   0   0   0   0   0   0   0   0\n",
            "   0   0   0   0   0   0   0   0   0   0   0   0   0   0   0   0   0   0\n",
            "   0   0   0   0   0   0   0   0   0   0   0   0   0   0   0   0   0   0\n",
            "   0   0   0   0   0   0   0   0   0   0   0   0   0   0   0   0   0   0\n",
            "   0   0   0   0   0   0   0   0   0   0   0   0   0   0   0   0   0   0\n",
            "   0   0   0   0   0   0   0   0   0   0   0   0   0   0   0   0   0   0\n",
            "   0   0   0   0   0   0   0   0   0   0   0   0   0   0   0   0   0   0\n",
            "   0   0   0   0   0   0   0   0   0   0   0   0   0   0   0   0   0   0\n",
            "   0   0   0   0   0   0   0   0   0   0   0   0   0   0   0   0   0   0\n",
            "   0   0   0   0   0   0   0   0   0   0   0   0   0   0   0   0   0   0\n",
            "   0   0   0   0   0   0   0   0   0   0   0   0   0   0   0   0   0   0\n",
            "   0   0   0   0   1   2  20  16   2   2 115 447   6  20  38  76] \n",
            "\n",
            "1/1 [==============================] - 0s 68ms/step\n",
            "[[0.8435257 ]\n",
            " [0.61014855]\n",
            " [0.60088223]]\n"
          ]
        }
      ]
    },
    {
      "cell_type": "markdown",
      "source": [],
      "metadata": {
        "id": "pGi5SRrKf0FD"
      }
    },
    {
      "cell_type": "markdown",
      "source": [
        "Interestingly, the model does not deal with ambiguity very well. It predicted the positive review very close to 1, and the strictly negative review very close to 0. That is quite good. However, the medium sentiment review was predicted to be much more negative than it actually is."
      ],
      "metadata": {
        "id": "JJ7W1lvaEfIT"
      }
    },
    {
      "cell_type": "code",
      "source": [
        "# Get raw predictions\n",
        "raw_predictions = model.predict(encoded_reviews)\n",
        "\n",
        "# Calculate binary predictions and confidence scores\n",
        "binary_predictions = np.where(raw_predictions > 0.5, 1, 0)\n",
        "confidence_scores = np.abs(raw_predictions - 0.5) * 2\n",
        "\n",
        "# Print binary predictions and confidence scores\n",
        "for i, (pred, conf) in enumerate(zip(binary_predictions, confidence_scores)):\n",
        "    print(f\"Review {i+1}: Prediction = {pred[0]}, Confidence = {conf[0]*100:.2f}%\")"
      ],
      "metadata": {
        "colab": {
          "base_uri": "https://localhost:8080/"
        },
        "id": "ues8ZhYDGUEX",
        "outputId": "cc7555e4-42cc-49cb-dde2-0900d3c33750"
      },
      "execution_count": 30,
      "outputs": [
        {
          "output_type": "stream",
          "name": "stdout",
          "text": [
            "1/1 [==============================] - 0s 20ms/step\n",
            "Review 1: Prediction = 1, Confidence = 53.00%\n",
            "Review 2: Prediction = 1, Confidence = 25.25%\n",
            "Review 3: Prediction = 0, Confidence = 16.80%\n"
          ]
        }
      ]
    },
    {
      "cell_type": "code",
      "source": [
        "# Scatterplot of some random words to visualize more directly how the model\n",
        "# rates words.\n",
        "# Random array of words\n",
        "words = [\"excellent\", \"good\", \"bad\", \"terrible\"]\n",
        "\n",
        "# Encode the words\n",
        "encoded_words = [encode_review(word) for word in words]\n",
        "\n",
        "# Pad the sequences\n",
        "encoded_words = tf.keras.preprocessing.sequence.pad_sequences(encoded_words, maxlen=250)\n",
        "\n",
        "# Get ratings\n",
        "ratings = model.predict(encoded_words)\n",
        "\n",
        "# Plot\n",
        "plt.scatter(words, ratings)\n",
        "plt.xlabel('Words')\n",
        "plt.ylabel('Ratings')\n",
        "plt.show()"
      ],
      "metadata": {
        "colab": {
          "base_uri": "https://localhost:8080/",
          "height": 466
        },
        "id": "ZZ9YDeNBF0g2",
        "outputId": "4b4178d7-ff4a-40b7-d1b9-083be09db21f"
      },
      "execution_count": 31,
      "outputs": [
        {
          "output_type": "stream",
          "name": "stdout",
          "text": [
            "1/1 [==============================] - 0s 21ms/step\n"
          ]
        },
        {
          "output_type": "display_data",
          "data": {
            "text/plain": [
              "<Figure size 640x480 with 1 Axes>"
            ],
            "image/png": "[encoded data removed]"
          },
          "metadata": {}
        }
      ]
    }
  ]
}