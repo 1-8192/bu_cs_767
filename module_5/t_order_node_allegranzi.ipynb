{
  "nbformat": 4,
  "nbformat_minor": 0,
  "metadata": {
    "colab": {
      "provenance": []
    },
    "kernelspec": {
      "name": "python3",
      "display_name": "Python 3"
    },
    "language_info": {
      "name": "python"
    }
  },
  "cells": [
    {
      "cell_type": "markdown",
      "source": [
        "# T-Order\n",
        "Traveling Salesman Genetic Algorithm\n",
        "\n",
        "Alessandro Allegranzi\n",
        "\n",
        "BU MET CS 767\n",
        "\n",
        "June 12, 2024"
      ],
      "metadata": {
        "id": "wtE6DIma-Q-n"
      }
    },
    {
      "cell_type": "markdown",
      "source": [
        "The following implementations were used as a basis for this solution: https://medium.com/aimonks/traveling-salesman-problem-tsp-using-genetic-algorithm-fea640713758\n",
        "And https://www.geeksforgeeks.org/traveling-salesman-problem-using-genetic-algorithm/"
      ],
      "metadata": {
        "id": "-FFTIEsOCzfE"
      }
    },
    {
      "cell_type": "code",
      "execution_count": 45,
      "metadata": {
        "id": "XMtdVBKJ-N50"
      },
      "outputs": [],
      "source": [
        "# Imports\n",
        "import numpy as np\n",
        "import random\n",
        "import matplotlib.pyplot as plt\n",
        "import operator\n",
        "import string"
      ]
    },
    {
      "cell_type": "markdown",
      "source": [
        "## Initializing Population"
      ],
      "metadata": {
        "id": "V2dQyI4A8rgg"
      }
    },
    {
      "cell_type": "code",
      "source": [
        "def create_route(city_distances):\n",
        "    \"\"\"\n",
        "    This function creates a random route of all cities in the list.\n",
        "    Args:\n",
        "        city_distances (dict): city distances.\n",
        "    Returns:\n",
        "        route (list): random route.\n",
        "    \"\"\"\n",
        "    # Extract unique city names from the keys of the distances dictionary\n",
        "    city_names = list(set(city for pair in city_distances.keys() for city in pair))\n",
        "    # Create a random route\n",
        "    route = random.sample(city_names, len(city_names))\n",
        "    return route\n",
        "\n",
        "def initial_population(city_distances, pop_size):\n",
        "    \"\"\"\n",
        "    This function creates an initial population of routes.\n",
        "    Args:\n",
        "        city_distances (dict): city distances.\n",
        "        pop_size (int): desired population size.\n",
        "    Returns:\n",
        "        population (list): initial population.\n",
        "    \"\"\"\n",
        "    population = []\n",
        "    for i in range(0, pop_size):\n",
        "        population.append(create_route(city_distances))\n",
        "    return population"
      ],
      "metadata": {
        "id": "URpdDBoZ-jK3"
      },
      "execution_count": 46,
      "outputs": []
    },
    {
      "cell_type": "markdown",
      "source": [
        "## Compute fitness and rank Solutions"
      ],
      "metadata": {
        "id": "8mCkDkqiC4MG"
      }
    },
    {
      "cell_type": "code",
      "source": [
        "def route_distance(route, distances):\n",
        "    \"\"\"\n",
        "    Computes the total distance of a route. The passed in dict does not feature\n",
        "    distance from start city to end city, so we account for that.\n",
        "    Args:\n",
        "        route (list): route to be computed.\n",
        "        distances (dict): dict of city distances.\n",
        "    Returns:\n",
        "        total_distance (float): total distance of the route.\n",
        "    \"\"\"\n",
        "    total_distance = 0\n",
        "    for i in range(len(route)-1):\n",
        "        try:\n",
        "            total_distance += distances[(route[i], route[i+1])]\n",
        "        except KeyError:\n",
        "            total_distance += distances[(route[i+1], route[i])]  # try the reverse pair\n",
        "    # Add the distance from the last city back to the first city\n",
        "    try:\n",
        "        total_distance += distances[(route[-1], route[0])]\n",
        "    except KeyError:\n",
        "        total_distance += distances[(route[0], route[-1])]  # try the reverse pair\n",
        "    return total_distance\n",
        "\n",
        "def rank_routes(population, distances):\n",
        "    \"\"\"\n",
        "    This function ranks the routes in the population based on their fitness, and is\n",
        "    the fitness function for the algo.\n",
        "    Args:\n",
        "        population (list): list of routes.\n",
        "        distances (dict): dict of city distances.\n",
        "    Returns:\n",
        "        fitness_results (dict): dict of routes and their fitness.\n",
        "    \"\"\"\n",
        "    fitness_results = {}\n",
        "    for i in range(len(population)):\n",
        "        fitness_results[i] = route_distance(population[i], distances)\n",
        "    # sorts the fitness_results dictionary by its values in\n",
        "    # ascending order and returns a list of tuples, where each tuple is\n",
        "    # a key-value pair from the dictionary.\n",
        "    return sorted(fitness_results.items(), key = operator.itemgetter(1), reverse = False)"
      ],
      "metadata": {
        "id": "_f4GRDBa-j7T"
      },
      "execution_count": 47,
      "outputs": []
    },
    {
      "cell_type": "markdown",
      "source": [
        "## Breeding functions"
      ],
      "metadata": {
        "id": "ppbRWfMhC-PL"
      }
    },
    {
      "cell_type": "code",
      "source": [
        "def selection(pop_ranked, elite_size):\n",
        "    \"\"\"\n",
        "    Implements the selection operation. Selects the best results based on\n",
        "    elite_size param.\n",
        "    Args:\n",
        "        pop_ranked (list): list of routes and their fitness.\n",
        "        elite_size (int): number of elite individuals.\n",
        "    Returns:\n",
        "        selection_results (list): list of selected routes.\n",
        "    \"\"\"\n",
        "    selection_results = [pop_ranked[i][0] for i in range(elite_size)]\n",
        "    for i in range(len(pop_ranked) - elite_size):\n",
        "        #normalizing probabilities\n",
        "        probabilities = [j[1] for j in pop_ranked]\n",
        "        probabilities = [p/sum(probabilities) for p in probabilities]\n",
        "        pick = int(np.random.choice(len(pop_ranked), p = probabilities))\n",
        "        selection_results.append(pop_ranked[pick][0])\n",
        "    return selection_results\n",
        "\n",
        "def crossover_pool(population, selection_results):\n",
        "    \"\"\"\n",
        "    Sets up the pool to crossover in.\n",
        "    Args:\n",
        "        population (list): list of routes.\n",
        "        selection_results (list): list of selected routes.\n",
        "    Returns:\n",
        "        matingpool (list): list of mating pool.\n",
        "    \"\"\"\n",
        "    cross_pool = [population[i] for i in selection_results]\n",
        "    return cross_pool\n",
        "\n",
        "def crossover(parent1, parent2):\n",
        "    \"\"\"\n",
        "    This function implements the crossover operation. as described in the assignment\n",
        "    it uses a single crossover point, randomly selected.\n",
        "    Args:\n",
        "        parent1 (list): first parent.\n",
        "        parent2 (list): second parent.\n",
        "    Returns:\n",
        "        child (list): child of the two parents.\n",
        "    \"\"\"\n",
        "    # Select a random crossover point.\n",
        "    crossover_point = int(random.random() * len(parent1))\n",
        "    child = parent1[:crossover_point]  # Copy the part of parent1 up to the crossover point.\n",
        "    child += [city for city in parent2 if city not in child]  # Append the remaining cities from parent2.\n",
        "    return child\n",
        "\n",
        "def cross_population(cross_pool, elite_size):\n",
        "    \"\"\"\n",
        "    Crosses over parents within the population.\n",
        "    Args:\n",
        "        cross_pool (list): list of mating pool.\n",
        "        elite_size (int): number of elite individuals.\n",
        "    Returns:\n",
        "        children (list): list of children.\n",
        "    \"\"\"\n",
        "    children = []\n",
        "    length = len(cross_pool) - elite_size\n",
        "    pool = random.sample(cross_pool, len(cross_pool))\n",
        "    for i in range(0, elite_size):\n",
        "        children.append(cross_pool[i])\n",
        "    for i in range(0, length):\n",
        "        child = crossover(pool[i], pool[len(cross_pool)-i-1])\n",
        "        children.append(child)\n",
        "    return children"
      ],
      "metadata": {
        "id": "DEl7jG53-okU"
      },
      "execution_count": 48,
      "outputs": []
    },
    {
      "cell_type": "markdown",
      "source": [
        "## Mutation Functions"
      ],
      "metadata": {
        "id": "vBrNlExUDA9k"
      }
    },
    {
      "cell_type": "code",
      "source": [
        "def mutate(individual, mutation_rate):\n",
        "    \"\"\"\n",
        "    This function implements the mutation operation.\n",
        "    Args:\n",
        "        individual (list): individual route to be mutated.\n",
        "        mutation_rate (float): mutation rate.\n",
        "    Returns:\n",
        "        individual (list): mutated individual.\n",
        "    \"\"\"\n",
        "    for swapped in range(len(individual)):\n",
        "        # if we need to mutate, we randomly pick elements to swap.\n",
        "        if(random.random() < mutation_rate):\n",
        "            swap_with = int(random.random() * len(individual))\n",
        "            city1 = individual[swapped]\n",
        "            city2 = individual[swap_with]\n",
        "            individual[swapped] = city2\n",
        "            individual[swap_with] = city1\n",
        "    return individual\n",
        "\n",
        "def mutate_population(population, mutation_rate):\n",
        "    \"\"\"\n",
        "    Mutates routes in the population.\n",
        "    Args:\n",
        "        population (list): list of individuals.\n",
        "        mutation_rate (float): mutation rate.\n",
        "    Returns:\n",
        "        mutated_pop (list): list of mutated individuals.\n",
        "    \"\"\"\n",
        "    mutated_pop = []\n",
        "    for ind in range(0, len(population)):\n",
        "        mutated_ind = mutate(population[ind], mutation_rate)\n",
        "        mutated_pop.append(mutated_ind)\n",
        "    return mutated_pop"
      ],
      "metadata": {
        "id": "TkZSB47P-tE-"
      },
      "execution_count": 49,
      "outputs": []
    },
    {
      "cell_type": "markdown",
      "source": [
        "## Main algorithm function"
      ],
      "metadata": {
        "id": "5fG0LxvJDFJX"
      }
    },
    {
      "cell_type": "code",
      "source": [
        "def next_generation(current_gen, elite_size, mutation_rate, city_distances):\n",
        "    \"\"\"\n",
        "    This function creates the next generation of the genetic algorithm by breeding\n",
        "    parent routes and applying mutations.\n",
        "    Args:\n",
        "        current_gen (list): list of current population.\n",
        "        elite_size (int): number of elite individuals.\n",
        "        mutation_rate (float): mutation rate.\n",
        "        city_distances (dict): dict of city distances.\n",
        "    Returns:\n",
        "        next_gen (list): list of next generation.\n",
        "    \"\"\"\n",
        "    pop_ranked = rank_routes(current_gen, city_distances)\n",
        "    selection_results = selection(pop_ranked, elite_size)\n",
        "    cross_pool = crossover_pool(current_gen, selection_results)\n",
        "    children = cross_population(cross_pool, elite_size)\n",
        "    next_gen = mutate_population(children, mutation_rate)\n",
        "    return next_gen\n",
        "\n",
        "def t_order(city_distances, pop_size, elite_size, mutation_rate, generations):\n",
        "    \"\"\"\n",
        "    The function that runs the genetic algorithm to solve the TSP problem.\n",
        "    Args:\n",
        "        city_distances (dict): dict of city distances.\n",
        "        pop_size (int): population size.\n",
        "        elite_size (int): elite size.\n",
        "        mutation_rate (float): mutation rate.\n",
        "        generations (int): number of generations.\n",
        "    Returns:\n",
        "        best_route (list): best route.\n",
        "        progress (list): list of progress.\n",
        "    \"\"\"\n",
        "    pop = initial_population(city_distances, pop_size)\n",
        "    progress = []\n",
        "    for i in range(0, generations):\n",
        "        pop = next_generation(pop, elite_size, mutation_rate, city_distances)\n",
        "        best_route_index = rank_routes(pop, city_distances)[0][0]\n",
        "        best_fitness = rank_routes(pop, city_distances)[0][1]\n",
        "        progress.append(best_fitness)\n",
        "        # Uncomment below to see the best route calculated in each gen.\n",
        "        # print(f\"Generation {i}: Best fitness is {best_fitness}\")\n",
        "\n",
        "    best_route_index = rank_routes(pop, city_distances)[0][0]\n",
        "    best_route = pop[best_route_index]\n",
        "    return best_route, progress"
      ],
      "metadata": {
        "id": "Ju16eWsz-vtt"
      },
      "execution_count": 50,
      "outputs": []
    },
    {
      "cell_type": "markdown",
      "source": [
        "## Setting up params for test run of algo."
      ],
      "metadata": {
        "id": "VRHdwRE1dv8o"
      }
    },
    {
      "cell_type": "code",
      "source": [
        "# Define the size of the population\n",
        "pop_size = 100\n",
        "\n",
        "# Define the number of elite individuals\n",
        "elite_size = 10\n",
        "\n",
        "# Define the mutation rate\n",
        "mutation_rate = 0.01\n",
        "\n",
        "# Define the number of generations\n",
        "generations = 200\n",
        "\n",
        "# Create city coordinates for a very small sample of 4 cities.\n",
        "# distances = {\n",
        "#     (\"Boston\", \"London\"): 3.0,\n",
        "#     (\"London\", \"Mumbai\"): 4.5,\n",
        "#     (\"Mumbai\", \"Shanghai\"): 3.1,\n",
        "#     (\"Shanghai\", \"London\"): 5.7,\n",
        "#     (\"Boston\", \"Mumbai\"): 7.6,\n",
        "#     (\"Boston\", \"Shanghai\"): 7.8\n",
        "# }\n",
        "\n",
        "# Create city coords for a larger sample to better test the algorithm.\n",
        "# Function to generate a random city name\n",
        "def generate_city_name():\n",
        "    return ''.join(random.choices(string.ascii_uppercase, k=5))\n",
        "\n",
        "# Generate 30 city names\n",
        "city_names = [generate_city_name() for _ in range(30)]\n",
        "distances = {}\n",
        "for i in range(len(city_names)):\n",
        "    for j in range(i+1, len(city_names)):\n",
        "        city1 = city_names[i]\n",
        "        city2 = city_names[j]\n",
        "        distance = round(random.uniform(1, 20), 1)  # generate a random distance between 1 and 20\n",
        "        distances[(city1, city2)] = distance"
      ],
      "metadata": {
        "id": "pnDgXDjg9NPF"
      },
      "execution_count": 51,
      "outputs": []
    },
    {
      "cell_type": "code",
      "source": [
        "best_route, progress = t_order(distances, pop_size, elite_size, mutation_rate, generations)\n",
        "print(f\"The best calculated route is: \\n {1}\", best_route)\n",
        "# Plotting the progress of the algorithm.\n",
        "plt.plot(progress)\n",
        "plt.ylabel('Distance')\n",
        "plt.xlabel('Generation')\n",
        "plt.show()"
      ],
      "metadata": {
        "colab": {
          "base_uri": "https://localhost:8080/",
          "height": 503
        },
        "id": "FdjKaL1G_a6o",
        "outputId": "2ba26054-41db-4a82-c083-e28c1ffbb2bb"
      },
      "execution_count": 52,
      "outputs": [
        {
          "output_type": "stream",
          "name": "stdout",
          "text": [
            "The best calculated route is: \n",
            " 1 ['MRSUR', 'JPJZS', 'MUOJZ', 'MUVAH', 'XPFQU', 'ZMNSR', 'ZNHXQ', 'ERWZA', 'CWNAC', 'NUGLM', 'JUILX', 'XIEWV', 'VDLNW', 'MTQXE', 'MLGPA', 'AQMXF', 'TXGPA', 'FSJBZ', 'GGDXZ', 'GEIPU', 'JBDSZ', 'XDSZZ', 'ZFHJS', 'KQYCB', 'KTWEW', 'BVVAN', 'PKCJL', 'KQKRP', 'LHHCQ', 'MEFPR']\n"
          ]
        },
        {
          "output_type": "display_data",
          "data": {
            "text/plain": [
              "<Figure size 640x480 with 1 Axes>"
            ],
            "image/png": "[encoded data removed]"
          },
          "metadata": {}
        }
      ]
    }
  ]
}